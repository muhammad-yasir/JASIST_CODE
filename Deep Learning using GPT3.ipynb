{
 "cells": [
  {
   "cell_type": "code",
   "execution_count": 2,
   "metadata": {},
   "outputs": [],
   "source": [
    "import pandas as pd\n",
    "import openai\n",
    "import uuid\n",
    "from imblearn.over_sampling import RandomOverSampler\n",
    "from sklearn.model_selection import train_test_split\n",
    "import os\n",
    "from sklearn.metrics import precision_score\n",
    "from sklearn.metrics import recall_score\n",
    "from sklearn.metrics import f1_score\n",
    "from sklearn.metrics import matthews_corrcoef\n",
    "from sklearn.metrics import accuracy_score"
   ]
  },
  {
   "cell_type": "code",
   "execution_count": 3,
   "metadata": {},
   "outputs": [],
   "source": [
    "df = pd.read_csv('./Data/Google Reviews.csv')  ## Google review dataset\n",
    "#df = pd.read_csv('./Data/Play Store App reviews.csv')  ## App reviews from Google Play Storedf = df[['Review_Text','Final Coding']]\n",
    "X_data = df[['Review_Text']]\n",
    "y_data = df[['Final Coding']]"
   ]
  },
  {
   "cell_type": "code",
   "execution_count": 4,
   "metadata": {},
   "outputs": [],
   "source": [
    "rus = RandomOverSampler(random_state= 42)\n",
    "x_rus ,y_rus = rus.fit_resample(X_data,y_data)\n",
    "X_train, X_test, y_train, y_test = train_test_split(x_rus, y_rus, test_size=0.3, random_state=777)\n"
   ]
  },
  {
   "cell_type": "code",
   "execution_count": 4,
   "metadata": {},
   "outputs": [],
   "source": [
    "train_df = pd.DataFrame(X_train)\n",
    "train_df['completion'] = y_train\n",
    "\n",
    "eval_df = pd.DataFrame(X_test)\n",
    "eval_df['completion'] = y_test\n",
    "\n",
    "train_df.rename(columns={'Review_Text':'prompt'},inplace=1)\n",
    "eval_df.rename(columns={'Review_Text':'prompt'},inplace=1)\n"
   ]
  },
  {
   "cell_type": "code",
   "execution_count": 3,
   "metadata": {},
   "outputs": [],
   "source": [
    "train_df.to_json(\"train.jsonl\",orient='records',lines=True)"
   ]
  },
  {
   "cell_type": "code",
   "execution_count": 1,
   "metadata": {},
   "outputs": [],
   "source": [
    "!openai tools fine_tunes.prepare_data -f train.jsonl -q    "
   ]
  },
  {
   "cell_type": "code",
   "execution_count": 2,
   "metadata": {},
   "outputs": [],
   "source": [
    "\n",
    "!openai -k \"Your_API_KEY\" api fine_tunes.create -t \"training_dataset_oversample_google_prepared.jsonl\" --model ada"
   ]
  },
  {
   "cell_type": "code",
   "execution_count": 3,
   "metadata": {},
   "outputs": [],
   "source": [
    "!openai -k \"Your_API_KEY\" api fine_tunes.follow -i ft-M6OzoH80NLjn8pLCmv7WEOl8\n"
   ]
  },
  {
   "cell_type": "code",
   "execution_count": 3,
   "metadata": {},
   "outputs": [],
   "source": [
    "gpt_predict = []\n",
    "ft_model = 'Uploaded model name enter here'\n",
    "\n",
    "for row,item in test.iterrows():\n",
    "    res = openai.Completion.create(model= ft_model,prompt=item['prompt'],max_tokens=1,temperature=0 )\n",
    "    gpt_predict.append(res['choices'][0]['text'])"
   ]
  },
  {
   "cell_type": "code",
   "execution_count": 2,
   "metadata": {},
   "outputs": [],
   "source": [
    "y_pred = [1 if x == ' 1' else 0 for x in gpt_predict]\n",
    "y_pred"
   ]
  },
  {
   "cell_type": "code",
   "execution_count": 1,
   "metadata": {},
   "outputs": [],
   "source": [
    "print(\"Accuracy is \", accuracy_score(test_df['completion'],y_pred))\n",
    "print(\"Precision is \",precision_score(test_df['completion'],y_pred))\n",
    "print(\"Recall is \",recall_score(test_df['completion'],y_pred))\n",
    "print(\"F1-score is\",f1_score(test_df['completion'],y_pred))\n",
    "print(\"Mathew corrcoef is \",matthews_corrcoef(test_df['completion'],y_pred))"
   ]
  },
  {
   "cell_type": "code",
   "execution_count": null,
   "metadata": {},
   "outputs": [],
   "source": []
  }
 ],
 "metadata": {
  "interpreter": {
   "hash": "919b6843753584bb5a6e833a429d8176522842f3c8b8fdcd54d0bec6bffbd095"
  },
  "kernelspec": {
   "display_name": "Python 3 (ipykernel)",
   "language": "python",
   "name": "python3"
  },
  "language_info": {
   "codemirror_mode": {
    "name": "ipython",
    "version": 3
   },
   "file_extension": ".py",
   "mimetype": "text/x-python",
   "name": "python",
   "nbconvert_exporter": "python",
   "pygments_lexer": "ipython3",
   "version": "3.9.7"
  }
 },
 "nbformat": 4,
 "nbformat_minor": 2
}
